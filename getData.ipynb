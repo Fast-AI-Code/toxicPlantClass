{
 "cells": [
  {
   "cell_type": "code",
   "execution_count": 1,
   "metadata": {},
   "outputs": [],
   "source": [
    "import pandas as pd\n",
    "from requests import get\n",
    "import urllib\n",
    "from bs4 import BeautifulSoup\n",
    "from tqdm import tqdm"
   ]
  },
  {
   "cell_type": "markdown",
   "metadata": {},
   "source": [
    "# Taking data of toxic plants from \n",
    "- http://poisonousplants.ansci.cornell.edu/"
   ]
  },
  {
   "cell_type": "code",
   "execution_count": 26,
   "metadata": {},
   "outputs": [],
   "source": [
    "url = \"http://poisonousplants.ansci.cornell.edu/php/plants.php?action=indiv&byname=scientific&keynum=1\""
   ]
  },
  {
   "cell_type": "code",
   "execution_count": null,
   "metadata": {},
   "outputs": [],
   "source": [
    "# http://poisonousplants.ansci.cornell.edu/php/plants.php?action=indiv&byname=scientific&keynum=1\n",
    "# http://poisonousplants.ansci.cornell.edu/php/plants.php?action=indiv&byname=scientific&keynum=95\n",
    "# http://poisonousplants.ansci.cornell.edu/images/rosarypea2.jpg"
   ]
  },
  {
   "cell_type": "code",
   "execution_count": 27,
   "metadata": {},
   "outputs": [],
   "source": [
    "html_soup = BeautifulSoup(get(url).text, 'html.parser')"
   ]
  },
  {
   "cell_type": "code",
   "execution_count": 2,
   "metadata": {},
   "outputs": [],
   "source": [
    "def return_image_link(x):\n",
    "    # Image link modifier from the php database urls xD\n",
    "    return f\"http://poisonousplants.ansci.cornell.edu/images/{x.split('/')[-1]}\""
   ]
  },
  {
   "cell_type": "code",
   "execution_count": 34,
   "metadata": {},
   "outputs": [
    {
     "data": {
      "text/plain": [
       "'http://poisonousplants.ansci.cornell.edu/images/rosarypea2.jpg'"
      ]
     },
     "execution_count": 34,
     "metadata": {},
     "output_type": "execute_result"
    }
   ],
   "source": [
    "return_image_link(html_soup.find_all('img')[1][\"src\"])"
   ]
  },
  {
   "cell_type": "code",
   "execution_count": 38,
   "metadata": {},
   "outputs": [],
   "source": [
    "list_plants = []"
   ]
  },
  {
   "cell_type": "code",
   "execution_count": 39,
   "metadata": {},
   "outputs": [
    {
     "name": "stderr",
     "output_type": "stream",
     "text": [
      "100%|██████████| 95/95 [01:23<00:00,  1.13it/s]\n"
     ]
    }
   ],
   "source": [
    "for page in tqdm(range(1, 96)):\n",
    "    html_soup = BeautifulSoup(get(f\"http://poisonousplants.ansci.cornell.edu/php/plants.php?action=indiv&byname=scientific&keynum={page}\").text, 'html.parser')\n",
    "    temp = [return_image_link(x[\"src\"]) for x in html_soup.find_all('img')]\n",
    "    list_plants.extend(temp)"
   ]
  },
  {
   "cell_type": "code",
   "execution_count": 44,
   "metadata": {
    "scrolled": true
   },
   "outputs": [
    {
     "data": {
      "text/plain": [
       "['http://poisonousplants.ansci.cornell.edu/images/rosarypea1.jpg',\n",
       " 'http://poisonousplants.ansci.cornell.edu/images/rosarypea2.jpg',\n",
       " 'http://poisonousplants.ansci.cornell.edu/images/rosarypea3.jpg']"
      ]
     },
     "execution_count": 44,
     "metadata": {},
     "output_type": "execute_result"
    }
   ],
   "source": [
    "list_plants[:3]"
   ]
  },
  {
   "cell_type": "code",
   "execution_count": 3,
   "metadata": {},
   "outputs": [],
   "source": [
    "def name_format(x):\n",
    "    return x.split(\"/\")[-1].split(\".\")[0]"
   ]
  },
  {
   "cell_type": "code",
   "execution_count": 46,
   "metadata": {},
   "outputs": [],
   "source": [
    "for a in list_plants:\n",
    "    try:\n",
    "        urllib.request.urlretrieve(a,f\"data/toxic/{name_format(a)}.jpg\")\n",
    "    except:\n",
    "        print(a)\n"
   ]
  },
  {
   "cell_type": "markdown",
   "metadata": {},
   "source": [
    "# Now for edible plants from \n"
   ]
  },
  {
   "cell_type": "code",
   "execution_count": 4,
   "metadata": {},
   "outputs": [],
   "source": [
    "url = \"https://pfaf.org/user/Top20Plants.aspx\""
   ]
  },
  {
   "cell_type": "code",
   "execution_count": 5,
   "metadata": {},
   "outputs": [],
   "source": [
    "html_soup = BeautifulSoup(get(url).text, 'html.parser')"
   ]
  },
  {
   "cell_type": "code",
   "execution_count": 9,
   "metadata": {
    "scrolled": true
   },
   "outputs": [],
   "source": [
    "latin_names = [x[\"href\"] for x in html_soup.find_all('a',class_ = 'LeftNav') if \"LatinName\" in x[\"href\"]]"
   ]
  },
  {
   "cell_type": "code",
   "execution_count": 10,
   "metadata": {
    "scrolled": true
   },
   "outputs": [
    {
     "data": {
      "text/plain": [
       "['Plant.aspx?LatinName=Actinidia arguta',\n",
       " 'Plant.aspx?LatinName=Actinidia deliciosa',\n",
       " 'Plant.aspx?LatinName=Agastache foeniculum',\n",
       " 'Plant.aspx?LatinName=Allium ampeloprasum',\n",
       " 'Plant.aspx?LatinName=Allium canadense mobilense',\n",
       " 'Plant.aspx?LatinName=Allium cepa',\n",
       " 'Plant.aspx?LatinName=Allium cepa ascalonicum',\n",
       " 'Plant.aspx?LatinName=Allium cepa proliferum',\n",
       " 'Plant.aspx?LatinName=Allium cernuum',\n",
       " 'Plant.aspx?LatinName=Allium fistulosum',\n",
       " 'Plant.aspx?LatinName=Allium neapolitanum',\n",
       " 'Plant.aspx?LatinName=Allium paradoxum',\n",
       " 'Plant.aspx?LatinName=Allium sativum',\n",
       " 'Plant.aspx?LatinName=Allium sativum ophioscorodon',\n",
       " 'Plant.aspx?LatinName=Allium schoenoprasum',\n",
       " 'Plant.aspx?LatinName=Allium schoenoprasum sibiricum',\n",
       " 'Plant.aspx?LatinName=Allium triquetrum',\n",
       " 'Plant.aspx?LatinName=Allium tuberosum',\n",
       " 'Plant.aspx?LatinName=Allium ursinum',\n",
       " 'Plant.aspx?LatinName=Althaea officinalis',\n",
       " 'Plant.aspx?LatinName=Amelanchier alnifolia',\n",
       " 'Plant.aspx?LatinName=Amelanchier alnifolia semiintegrifolia',\n",
       " 'Plant.aspx?LatinName=Amelanchier confusa',\n",
       " 'Plant.aspx?LatinName=Amelanchier laevis',\n",
       " 'Plant.aspx?LatinName=Amelanchier lamarckii',\n",
       " 'Plant.aspx?LatinName=Amelanchier stolonifera',\n",
       " 'Plant.aspx?LatinName=Amelanchier x grandiflora',\n",
       " 'Plant.aspx?LatinName=Amphicarpaea bracteata',\n",
       " 'Plant.aspx?LatinName=Amphicarpaea pitcheri',\n",
       " 'Plant.aspx?LatinName=Anacardium occidentale',\n",
       " 'Plant.aspx?LatinName=Ananas comosus',\n",
       " 'Plant.aspx?LatinName=Annona cherimola',\n",
       " 'Plant.aspx?LatinName=Annona mucosa',\n",
       " 'Plant.aspx?LatinName=Annona squamosa',\n",
       " 'Plant.aspx?LatinName=Apios americana',\n",
       " 'Plant.aspx?LatinName=Apios fortunei',\n",
       " 'Plant.aspx?LatinName=Apios priceana',\n",
       " 'Plant.aspx?LatinName=Araucaria araucana',\n",
       " 'Plant.aspx?LatinName=Artocarpus altilis',\n",
       " 'Plant.aspx?LatinName=Artocarpus heterophyllus',\n",
       " 'Plant.aspx?LatinName=Atriplex halimus',\n",
       " 'Plant.aspx?LatinName=Bactris gasipaes',\n",
       " 'Plant.aspx?LatinName=Bertholletia excelsa',\n",
       " 'Plant.aspx?LatinName=Brassica oleracea italica',\n",
       " 'Plant.aspx?LatinName=Camassia quamash',\n",
       " 'Plant.aspx?LatinName=Campanula versicolor',\n",
       " 'Plant.aspx?LatinName=Caragana arborescens',\n",
       " 'Plant.aspx?LatinName=Carica papaya',\n",
       " 'Plant.aspx?LatinName=Casimiroa edulis',\n",
       " 'Plant.aspx?LatinName=Castanea sativa',\n",
       " 'Plant.aspx?LatinName=Cephalotaxus fortunei',\n",
       " 'Plant.aspx?LatinName=Cephalotaxus harringtonia',\n",
       " 'Plant.aspx?LatinName=Cephalotaxus harringtonia drupacea',\n",
       " 'Plant.aspx?LatinName=Cephalotaxus harringtonia koreana',\n",
       " 'Plant.aspx?LatinName=Cephalotaxus harringtonia nana',\n",
       " 'Plant.aspx?LatinName=Chenopodium quinoa',\n",
       " 'Plant.aspx?LatinName=Chenopodium spp.',\n",
       " 'Plant.aspx?LatinName=Cocos nucifera',\n",
       " 'Plant.aspx?LatinName=Cornus kousa',\n",
       " 'Plant.aspx?LatinName=Cornus kousa chinensis',\n",
       " 'Plant.aspx?LatinName=Corylus avellana',\n",
       " 'Plant.aspx?LatinName=Corylus hybrids & neohybrids',\n",
       " 'Plant.aspx?LatinName=Corylus maxima',\n",
       " 'Plant.aspx?LatinName=Crataegus arnoldiana',\n",
       " 'Plant.aspx?LatinName=Crataegus ellwangeriana',\n",
       " 'Plant.aspx?LatinName=Crataegus festiva',\n",
       " 'Plant.aspx?LatinName=Crataegus missouriensis',\n",
       " 'Plant.aspx?LatinName=Crataegus pedicellata',\n",
       " 'Plant.aspx?LatinName=Crataegus pennsylvanica',\n",
       " 'Plant.aspx?LatinName=Crataegus schraderana',\n",
       " 'Plant.aspx?LatinName=Crataegus tanacetifolia',\n",
       " 'Plant.aspx?LatinName=Cucurbita maxima',\n",
       " 'Plant.aspx?LatinName=Cucurbita moschata',\n",
       " 'Plant.aspx?LatinName=Dacryodes edulis',\n",
       " 'Plant.aspx?LatinName=Daucus carota sativus',\n",
       " 'Plant.aspx?LatinName=Dioscorea batatas',\n",
       " 'Plant.aspx?LatinName=Diospyros lotus',\n",
       " 'Plant.aspx?LatinName=Diospyros virginiana',\n",
       " 'Plant.aspx?LatinName=Durio zibethinus',\n",
       " 'Plant.aspx?LatinName=Elaeagnus cordifolia',\n",
       " 'Plant.aspx?LatinName=Elaeagnus macrophylla',\n",
       " 'Plant.aspx?LatinName=Elaeagnus multiflora',\n",
       " 'Plant.aspx?LatinName=Elaeagnus multiflora ovata',\n",
       " 'Plant.aspx?LatinName=Elaeagnus pungens',\n",
       " 'Plant.aspx?LatinName=Elaeagnus x ebbingei',\n",
       " 'Plant.aspx?LatinName=Elaeis guineensis',\n",
       " 'Plant.aspx?LatinName=Euterpe edulis',\n",
       " 'Plant.aspx?LatinName=Euterpe oleracea',\n",
       " 'Plant.aspx?LatinName=Foeniculum vulgare',\n",
       " \"Plant.aspx?LatinName=Fragaria vesca 'Semperflorens'\",\n",
       " 'Plant.aspx?LatinName=Fragaria x ananassa',\n",
       " 'Plant.aspx?LatinName=Garcinia mangostana',\n",
       " 'Plant.aspx?LatinName=Gaultheria shallon',\n",
       " 'Plant.aspx?LatinName=Ginkgo biloba',\n",
       " 'Plant.aspx?LatinName=Helianthus annuus',\n",
       " 'Plant.aspx?LatinName=Hemerocallis fulva',\n",
       " 'Plant.aspx?LatinName=Hemerocallis middendorffii',\n",
       " 'Plant.aspx?LatinName=Hemerocallis middendorffii esculenta',\n",
       " 'Plant.aspx?LatinName=Hippophae rhamnoides',\n",
       " 'Plant.aspx?LatinName=Hippophae rhamnoides turkestanica',\n",
       " 'Plant.aspx?LatinName=Hippophae salicifolia',\n",
       " 'Plant.aspx?LatinName=Hippophae sinensis',\n",
       " 'Plant.aspx?LatinName=Ipomoea batatas',\n",
       " 'Plant.aspx?LatinName=Lathyrus tuberosus',\n",
       " 'Plant.aspx?LatinName=Lepidium meyenii',\n",
       " 'Plant.aspx?LatinName=Lepidium spp.',\n",
       " 'Plant.aspx?LatinName=Litchi chinensis',\n",
       " 'Plant.aspx?LatinName=Lupinus mutabilis',\n",
       " 'Plant.aspx?LatinName=Malus domestica',\n",
       " 'Plant.aspx?LatinName=Malva alcea',\n",
       " 'Plant.aspx?LatinName=Malva moschata',\n",
       " 'Plant.aspx?LatinName=Malva verticillata',\n",
       " 'Plant.aspx?LatinName=Mangifera indica',\n",
       " 'Plant.aspx?LatinName=Manihot esculenta',\n",
       " 'Plant.aspx?LatinName=Manilkara zapota',\n",
       " 'Plant.aspx?LatinName=Morus nigra',\n",
       " 'Plant.aspx?LatinName=Musa x paradisiaca',\n",
       " 'Plant.aspx?LatinName=Nephelium lappaceum',\n",
       " 'Plant.aspx?LatinName=Oryza sativa',\n",
       " 'Plant.aspx?LatinName=Oxalis tuberosa',\n",
       " 'Plant.aspx?LatinName=Passiflora ligularis',\n",
       " 'Plant.aspx?LatinName=Perideridia gairdneri',\n",
       " 'Plant.aspx?LatinName=Persea americana',\n",
       " 'Plant.aspx?LatinName=Phoenix dactylifera',\n",
       " 'Plant.aspx?LatinName=Phragmites australis',\n",
       " 'Plant.aspx?LatinName=Phyllostachys aurea',\n",
       " 'Plant.aspx?LatinName=Phyllostachys nidularia',\n",
       " 'Plant.aspx?LatinName=Physalis peruviana',\n",
       " 'Plant.aspx?LatinName=Prunus domestica',\n",
       " 'Plant.aspx?LatinName=Prunus domestica italica',\n",
       " 'Plant.aspx?LatinName=Prunus insititia',\n",
       " 'Plant.aspx?LatinName=Prunus persica',\n",
       " 'Plant.aspx?LatinName=Psidium guajava',\n",
       " 'Plant.aspx?LatinName=Psoralea esculenta',\n",
       " 'Plant.aspx?LatinName=Pyrus communis sativa',\n",
       " 'Plant.aspx?LatinName=Quercus ilex',\n",
       " 'Plant.aspx?LatinName=Quercus ilex ballota',\n",
       " 'Plant.aspx?LatinName=Reichardia picroides',\n",
       " 'Plant.aspx?LatinName=Ribes nigrum',\n",
       " 'Plant.aspx?LatinName=Ribes uva-crispa',\n",
       " 'Plant.aspx?LatinName=Ribes x culverwellii',\n",
       " 'Plant.aspx?LatinName=Rosa rugosa',\n",
       " 'Plant.aspx?LatinName=Rubus arcticus',\n",
       " 'Plant.aspx?LatinName=Rubus fruticosus',\n",
       " 'Plant.aspx?LatinName=Rubus idaeus',\n",
       " 'Plant.aspx?LatinName=Rubus laciniatus',\n",
       " 'Plant.aspx?LatinName=Rubus loganobaccus',\n",
       " 'Plant.aspx?LatinName=Rubus nepalensis',\n",
       " 'Plant.aspx?LatinName=Rubus phoenicolasius',\n",
       " 'Plant.aspx?LatinName=Rubus procerus',\n",
       " 'Plant.aspx?LatinName=Rumex acetosa',\n",
       " 'Plant.aspx?LatinName=Sagittaria latifolia',\n",
       " 'Plant.aspx?LatinName=Sagittaria sagittifolia',\n",
       " 'Plant.aspx?LatinName=Salacca zalacca',\n",
       " 'Plant.aspx?LatinName=Sassafras albidum',\n",
       " 'Plant.aspx?LatinName=Sauropus androgynus',\n",
       " 'Plant.aspx?LatinName=Secale hybrids',\n",
       " 'Plant.aspx?LatinName=Secale strictum',\n",
       " 'Plant.aspx?LatinName=Secale strictum kuprijanovii',\n",
       " 'Plant.aspx?LatinName=Semiarundinaria fastuosa',\n",
       " 'Plant.aspx?LatinName=Solanum lycopersicum',\n",
       " 'Plant.aspx?LatinName=Solanum tuberosum',\n",
       " 'Plant.aspx?LatinName=Sorbus domestica',\n",
       " 'Plant.aspx?LatinName=Terminalia kaernbachii',\n",
       " 'Plant.aspx?LatinName=Theobroma cacao',\n",
       " 'Plant.aspx?LatinName=Tilia cordata',\n",
       " 'Plant.aspx?LatinName=Tilia platyphyllos',\n",
       " 'Plant.aspx?LatinName=Tilia x europaea',\n",
       " 'Plant.aspx?LatinName=Torreya nucifera',\n",
       " 'Plant.aspx?LatinName=Typha angustifolia',\n",
       " 'Plant.aspx?LatinName=Typha latifolia',\n",
       " 'Plant.aspx?LatinName=Ugni molinae',\n",
       " 'Plant.aspx?LatinName=Urtica dioica',\n",
       " 'Plant.aspx?LatinName=Viola odorata',\n",
       " 'Plant.aspx?LatinName=Vitis vinifera',\n",
       " 'Plant.aspx?LatinName=x Sorbo\\xadcrataegus hybrid',\n",
       " 'Plant.aspx?LatinName=Zea hybrids',\n",
       " 'Plant.aspx?LatinName=Zea mays',\n",
       " 'Plant.aspx?LatinName=Zizania aquatica',\n",
       " 'Plant.aspx?LatinName=Abies balsamea',\n",
       " 'Plant.aspx?LatinName=Allium sativum',\n",
       " 'Plant.aspx?LatinName=Allium sativum ophioscorodon',\n",
       " 'Plant.aspx?LatinName=Aloe arborescens',\n",
       " 'Plant.aspx?LatinName=Aloe ferox',\n",
       " 'Plant.aspx?LatinName=Aloe vera',\n",
       " 'Plant.aspx?LatinName=Althaea officinalis',\n",
       " 'Plant.aspx?LatinName=Ammi visnaga',\n",
       " 'Plant.aspx?LatinName=Angelica sinensis',\n",
       " 'Plant.aspx?LatinName=Arctium lappa',\n",
       " 'Plant.aspx?LatinName=Arctium minus',\n",
       " 'Plant.aspx?LatinName=Asparagus racemosus',\n",
       " 'Plant.aspx?LatinName=Astragalus membranaceus',\n",
       " 'Plant.aspx?LatinName=Calendula officinalis',\n",
       " 'Plant.aspx?LatinName=Camptotheca acuminata',\n",
       " 'Plant.aspx?LatinName=Centella asiatica',\n",
       " 'Plant.aspx?LatinName=Chamaemelum nobile',\n",
       " 'Plant.aspx?LatinName=Cinchona calisaya',\n",
       " 'Plant.aspx?LatinName=Cinchona officinalis',\n",
       " 'Plant.aspx?LatinName=Cinchona pubescens',\n",
       " 'Plant.aspx?LatinName=Citrus limon',\n",
       " 'Plant.aspx?LatinName=Citrus x meyeri',\n",
       " 'Plant.aspx?LatinName=Crataegus laevigata',\n",
       " 'Plant.aspx?LatinName=Crataegus monogyna',\n",
       " 'Plant.aspx?LatinName=Cynara cardunculus',\n",
       " 'Plant.aspx?LatinName=Cynara scolymus',\n",
       " 'Plant.aspx?LatinName=Dioscorea batatas',\n",
       " 'Plant.aspx?LatinName=Echinacea angustifolia',\n",
       " 'Plant.aspx?LatinName=Echinacea pallida',\n",
       " 'Plant.aspx?LatinName=Echinacea purpurea',\n",
       " 'Plant.aspx?LatinName=Eleutherococcus senticosus',\n",
       " 'Plant.aspx?LatinName=Gentiana lutea',\n",
       " 'Plant.aspx?LatinName=Ginkgo biloba',\n",
       " 'Plant.aspx?LatinName=Gynostemma pentaphyllum',\n",
       " 'Plant.aspx?LatinName=Hamamelis virginiana',\n",
       " 'Plant.aspx?LatinName=Hippophae rhamnoides',\n",
       " 'Plant.aspx?LatinName=Hippophae rhamnoides turkestanica',\n",
       " 'Plant.aspx?LatinName=Humulus lupulus',\n",
       " 'Plant.aspx?LatinName=Matricaria recutita',\n",
       " 'Plant.aspx?LatinName=Melaleuca alternifolia',\n",
       " 'Plant.aspx?LatinName=Melissa officinalis',\n",
       " 'Plant.aspx?LatinName=Mentha x piperita officinalis',\n",
       " 'Plant.aspx?LatinName=Mentha x piperita vulgaris',\n",
       " 'Plant.aspx?LatinName=Oenothera biennis',\n",
       " 'Plant.aspx?LatinName=Panax ginseng',\n",
       " 'Plant.aspx?LatinName=Panax pseudoginseng notoginseng',\n",
       " 'Plant.aspx?LatinName=Pausinystalia johimbe',\n",
       " 'Plant.aspx?LatinName=Pausinystalia macroceras',\n",
       " 'Plant.aspx?LatinName=Phyllanthus emblica',\n",
       " 'Plant.aspx?LatinName=Prunus africana',\n",
       " 'Plant.aspx?LatinName=Pueraria montana',\n",
       " 'Plant.aspx?LatinName=Pueraria montana lobata',\n",
       " 'Plant.aspx?LatinName=Rheum palmatum',\n",
       " 'Plant.aspx?LatinName=Rheum palmatum tanguticum',\n",
       " 'Plant.aspx?LatinName=Salvia officinalis',\n",
       " 'Plant.aspx?LatinName=Schisandra chinensis',\n",
       " 'Plant.aspx?LatinName=Schisandra sphenanthera',\n",
       " 'Plant.aspx?LatinName=Silybum marianum',\n",
       " 'Plant.aspx?LatinName=Symphytum officinale',\n",
       " 'Plant.aspx?LatinName=Symphytum uplandicum',\n",
       " 'Plant.aspx?LatinName=Tanacetum parthenium',\n",
       " 'Plant.aspx?LatinName=Terminalia chebula',\n",
       " 'Plant.aspx?LatinName=Trigonella foenum-graecum',\n",
       " 'Plant.aspx?LatinName=Ulmus rubra',\n",
       " 'Plant.aspx?LatinName=Urtica dioica',\n",
       " 'Plant.aspx?LatinName=Vitellaria paradoxa',\n",
       " 'Plant.aspx?LatinName=Vitex agnus-castus',\n",
       " 'Plant.aspx?LatinName=Zingiber officinale',\n",
       " 'Plant.aspx?LatinName=Aloe vera',\n",
       " 'Plant.aspx?LatinName=Malva verticillata',\n",
       " 'Plant.aspx?LatinName=Vitex agnus-castus',\n",
       " 'Plant.aspx?LatinName=Lycium barbarum',\n",
       " 'Plant.aspx?LatinName=Urtica dioica',\n",
       " 'Plant.aspx?LatinName=Rhodiola rosea',\n",
       " 'Plant.aspx?LatinName=Olea europaea',\n",
       " 'Plant.aspx?LatinName=Cannabis sativa',\n",
       " 'Plant.aspx?LatinName=Allium cepa',\n",
       " 'Plant.aspx?LatinName=Allium sativum',\n",
       " 'Plant.aspx?LatinName=Acorus calamus',\n",
       " 'Plant.aspx?LatinName=Hippophae rhamnoides',\n",
       " 'Plant.aspx?LatinName=Araucaria araucana',\n",
       " 'Plant.aspx?LatinName=Nerium oleander',\n",
       " 'Plant.aspx?LatinName=Calendula officinalis',\n",
       " 'Plant.aspx?LatinName=Salvia hispanica',\n",
       " 'Plant.aspx?LatinName=Achillea millefolium',\n",
       " 'Plant.aspx?LatinName=Centella asiatica',\n",
       " 'Plant.aspx?LatinName=Salvia officinalis',\n",
       " 'Plant.aspx?LatinName=Taraxacum officinale',\n",
       " 'Plant.aspx?LatinName=Sambucus nigra',\n",
       " 'Plant.aspx?LatinName=Prunus laurocerasus',\n",
       " 'Plant.aspx?LatinName=Ginkgo biloba',\n",
       " 'Plant.aspx?LatinName=Silybum marianum',\n",
       " 'Plant.aspx?LatinName=Betula pendula',\n",
       " 'Plant.aspx?LatinName=Helianthus tuberosus',\n",
       " 'Plant.aspx?LatinName=Abelmoschus esculentus',\n",
       " 'Plant.aspx?LatinName=Asparagus racemosus',\n",
       " 'Plant.aspx?LatinName=Althaea officinalis',\n",
       " 'Plant.aspx?LatinName=Allium ursinum',\n",
       " 'Plant.aspx?LatinName=Arbutus unedo',\n",
       " 'Plant.aspx?LatinName=Acer palmatum',\n",
       " 'Plant.aspx?LatinName=Taxus baccata',\n",
       " 'Plant.aspx?LatinName=Ficus carica',\n",
       " 'Plant.aspx?LatinName=Schisandra chinensis',\n",
       " 'Plant.aspx?LatinName=Catalpa bignonioides',\n",
       " 'Plant.aspx?LatinName=Aesculus hippocastanum',\n",
       " 'Plant.aspx?LatinName=Melissa officinalis',\n",
       " 'Plant.aspx?LatinName=Actinidia deliciosa',\n",
       " 'Plant.aspx?LatinName=Malus domestica',\n",
       " 'Plant.aspx?LatinName=Withania somnifera',\n",
       " 'Plant.aspx?LatinName=Zea mays',\n",
       " 'Plant.aspx?LatinName=Laurus nobilis',\n",
       " 'Plant.aspx?LatinName=Brassica rapa',\n",
       " 'Plant.aspx?LatinName=Hibiscus rosa-sinensis',\n",
       " 'Plant.aspx?LatinName=Melaleuca alternifolia',\n",
       " 'Plant.aspx?LatinName=Ziziphus jujuba',\n",
       " 'Plant.aspx?LatinName=Panax ginseng',\n",
       " 'Plant.aspx?LatinName=Echinacea purpurea',\n",
       " 'Plant.aspx?LatinName=Solanum melongena']"
      ]
     },
     "execution_count": 10,
     "metadata": {},
     "output_type": "execute_result"
    }
   ],
   "source": [
    "latin_names"
   ]
  },
  {
   "cell_type": "code",
   "execution_count": 11,
   "metadata": {
    "scrolled": true
   },
   "outputs": [],
   "source": [
    "latin_names = [\"+\".join(x.split(\"=\")[-1].split(\" \")) for x in latin_names]"
   ]
  },
  {
   "cell_type": "code",
   "execution_count": 12,
   "metadata": {},
   "outputs": [],
   "source": [
    "def return_image_link2(x):\n",
    "    # Image link modifier from the php database urls xD\n",
    "    return f\"https://pfaf.org/Admin/PlantImages/{x.split('/')[-1]}\""
   ]
  },
  {
   "cell_type": "code",
   "execution_count": null,
   "metadata": {
    "scrolled": true
   },
   "outputs": [
    {
     "name": "stderr",
     "output_type": "stream",
     "text": [
      "  1%|▏         | 4/297 [03:22<4:19:10, 53.07s/it]"
     ]
    }
   ],
   "source": [
    "for a in tqdm(latin_names):\n",
    "    link = f\"https://pfaf.org/user/Plant.aspx?LatinName={a}\"\n",
    "    html_soup = BeautifulSoup(get(link).text, 'html.parser')\n",
    "#     print(html_soup.find_all('img'))\n",
    "    temp = [return_image_link2(x[\"src\"]) for x in html_soup.find_all('img')]\n",
    "    for b in temp:\n",
    "#         print(b)\n",
    "        try:\n",
    "             urllib.request.urlretrieve(b,f\"data/edible/{name_format(b)}.jpg\")\n",
    "        except:\n",
    "            pass"
   ]
  },
  {
   "cell_type": "code",
   "execution_count": null,
   "metadata": {},
   "outputs": [],
   "source": []
  },
  {
   "cell_type": "code",
   "execution_count": null,
   "metadata": {},
   "outputs": [],
   "source": []
  },
  {
   "cell_type": "code",
   "execution_count": null,
   "metadata": {},
   "outputs": [],
   "source": []
  },
  {
   "cell_type": "code",
   "execution_count": null,
   "metadata": {},
   "outputs": [],
   "source": []
  }
 ],
 "metadata": {
  "kernelspec": {
   "display_name": "Python 3",
   "language": "python",
   "name": "python3"
  },
  "language_info": {
   "codemirror_mode": {
    "name": "ipython",
    "version": 3
   },
   "file_extension": ".py",
   "mimetype": "text/x-python",
   "name": "python",
   "nbconvert_exporter": "python",
   "pygments_lexer": "ipython3",
   "version": "3.6.10"
  },
  "widgets": {
   "application/vnd.jupyter.widget-state+json": {
    "state": {},
    "version_major": 2,
    "version_minor": 0
   }
  }
 },
 "nbformat": 4,
 "nbformat_minor": 4
}
